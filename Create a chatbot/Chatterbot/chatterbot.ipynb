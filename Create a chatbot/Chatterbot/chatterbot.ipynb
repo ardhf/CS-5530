{
  "nbformat": 4,
  "nbformat_minor": 0,
  "metadata": {
    "colab": {
      "provenance": []
    },
    "kernelspec": {
      "name": "python3",
      "display_name": "Python 3"
    },
    "language_info": {
      "name": "python"
    }
  },
  "cells": [
    {
      "cell_type": "code",
      "execution_count": null,
      "metadata": {
        "colab": {
          "base_uri": "https://localhost:8080/"
        },
        "id": "DEsr-YVCyAW3",
        "outputId": "92b97eb6-e06e-46e5-da59-e39c775ea5b3"
      },
      "outputs": [
        {
          "output_type": "stream",
          "name": "stdout",
          "text": [
            "Collecting chatterbot==1.2.2\n",
            "  Downloading chatterbot-1.2.2-py3-none-any.whl.metadata (8.3 kB)\n",
            "Collecting mathparse<0.2,>=0.1 (from chatterbot==1.2.2)\n",
            "  Downloading mathparse-0.1.5-py3-none-any.whl.metadata (2.0 kB)\n",
            "Requirement already satisfied: python-dateutil<2.10,>=2.9 in /usr/local/lib/python3.11/dist-packages (from chatterbot==1.2.2) (2.9.0.post0)\n",
            "Requirement already satisfied: sqlalchemy<2.1,>=2.0 in /usr/local/lib/python3.11/dist-packages (from chatterbot==1.2.2) (2.0.40)\n",
            "Requirement already satisfied: spacy<3.9,>=3.8 in /usr/local/lib/python3.11/dist-packages (from chatterbot==1.2.2) (3.8.5)\n",
            "Requirement already satisfied: tqdm in /usr/local/lib/python3.11/dist-packages (from chatterbot==1.2.2) (4.67.1)\n",
            "Requirement already satisfied: six>=1.5 in /usr/local/lib/python3.11/dist-packages (from python-dateutil<2.10,>=2.9->chatterbot==1.2.2) (1.17.0)\n",
            "Requirement already satisfied: spacy-legacy<3.1.0,>=3.0.11 in /usr/local/lib/python3.11/dist-packages (from spacy<3.9,>=3.8->chatterbot==1.2.2) (3.0.12)\n",
            "Requirement already satisfied: spacy-loggers<2.0.0,>=1.0.0 in /usr/local/lib/python3.11/dist-packages (from spacy<3.9,>=3.8->chatterbot==1.2.2) (1.0.5)\n",
            "Requirement already satisfied: murmurhash<1.1.0,>=0.28.0 in /usr/local/lib/python3.11/dist-packages (from spacy<3.9,>=3.8->chatterbot==1.2.2) (1.0.12)\n",
            "Requirement already satisfied: cymem<2.1.0,>=2.0.2 in /usr/local/lib/python3.11/dist-packages (from spacy<3.9,>=3.8->chatterbot==1.2.2) (2.0.11)\n",
            "Requirement already satisfied: preshed<3.1.0,>=3.0.2 in /usr/local/lib/python3.11/dist-packages (from spacy<3.9,>=3.8->chatterbot==1.2.2) (3.0.9)\n",
            "Requirement already satisfied: thinc<8.4.0,>=8.3.4 in /usr/local/lib/python3.11/dist-packages (from spacy<3.9,>=3.8->chatterbot==1.2.2) (8.3.6)\n",
            "Requirement already satisfied: wasabi<1.2.0,>=0.9.1 in /usr/local/lib/python3.11/dist-packages (from spacy<3.9,>=3.8->chatterbot==1.2.2) (1.1.3)\n",
            "Requirement already satisfied: srsly<3.0.0,>=2.4.3 in /usr/local/lib/python3.11/dist-packages (from spacy<3.9,>=3.8->chatterbot==1.2.2) (2.5.1)\n",
            "Requirement already satisfied: catalogue<2.1.0,>=2.0.6 in /usr/local/lib/python3.11/dist-packages (from spacy<3.9,>=3.8->chatterbot==1.2.2) (2.0.10)\n",
            "Requirement already satisfied: weasel<0.5.0,>=0.1.0 in /usr/local/lib/python3.11/dist-packages (from spacy<3.9,>=3.8->chatterbot==1.2.2) (0.4.1)\n",
            "Requirement already satisfied: typer<1.0.0,>=0.3.0 in /usr/local/lib/python3.11/dist-packages (from spacy<3.9,>=3.8->chatterbot==1.2.2) (0.15.3)\n",
            "Requirement already satisfied: numpy>=1.19.0 in /usr/local/lib/python3.11/dist-packages (from spacy<3.9,>=3.8->chatterbot==1.2.2) (2.0.2)\n",
            "Requirement already satisfied: requests<3.0.0,>=2.13.0 in /usr/local/lib/python3.11/dist-packages (from spacy<3.9,>=3.8->chatterbot==1.2.2) (2.32.3)\n",
            "Requirement already satisfied: pydantic!=1.8,!=1.8.1,<3.0.0,>=1.7.4 in /usr/local/lib/python3.11/dist-packages (from spacy<3.9,>=3.8->chatterbot==1.2.2) (2.11.4)\n",
            "Requirement already satisfied: jinja2 in /usr/local/lib/python3.11/dist-packages (from spacy<3.9,>=3.8->chatterbot==1.2.2) (3.1.6)\n",
            "Requirement already satisfied: setuptools in /usr/local/lib/python3.11/dist-packages (from spacy<3.9,>=3.8->chatterbot==1.2.2) (75.2.0)\n",
            "Requirement already satisfied: packaging>=20.0 in /usr/local/lib/python3.11/dist-packages (from spacy<3.9,>=3.8->chatterbot==1.2.2) (24.2)\n",
            "Requirement already satisfied: langcodes<4.0.0,>=3.2.0 in /usr/local/lib/python3.11/dist-packages (from spacy<3.9,>=3.8->chatterbot==1.2.2) (3.5.0)\n",
            "Requirement already satisfied: greenlet>=1 in /usr/local/lib/python3.11/dist-packages (from sqlalchemy<2.1,>=2.0->chatterbot==1.2.2) (3.2.1)\n",
            "Requirement already satisfied: typing-extensions>=4.6.0 in /usr/local/lib/python3.11/dist-packages (from sqlalchemy<2.1,>=2.0->chatterbot==1.2.2) (4.13.2)\n",
            "Requirement already satisfied: language-data>=1.2 in /usr/local/lib/python3.11/dist-packages (from langcodes<4.0.0,>=3.2.0->spacy<3.9,>=3.8->chatterbot==1.2.2) (1.3.0)\n",
            "Requirement already satisfied: annotated-types>=0.6.0 in /usr/local/lib/python3.11/dist-packages (from pydantic!=1.8,!=1.8.1,<3.0.0,>=1.7.4->spacy<3.9,>=3.8->chatterbot==1.2.2) (0.7.0)\n",
            "Requirement already satisfied: pydantic-core==2.33.2 in /usr/local/lib/python3.11/dist-packages (from pydantic!=1.8,!=1.8.1,<3.0.0,>=1.7.4->spacy<3.9,>=3.8->chatterbot==1.2.2) (2.33.2)\n",
            "Requirement already satisfied: typing-inspection>=0.4.0 in /usr/local/lib/python3.11/dist-packages (from pydantic!=1.8,!=1.8.1,<3.0.0,>=1.7.4->spacy<3.9,>=3.8->chatterbot==1.2.2) (0.4.0)\n",
            "Requirement already satisfied: charset-normalizer<4,>=2 in /usr/local/lib/python3.11/dist-packages (from requests<3.0.0,>=2.13.0->spacy<3.9,>=3.8->chatterbot==1.2.2) (3.4.1)\n",
            "Requirement already satisfied: idna<4,>=2.5 in /usr/local/lib/python3.11/dist-packages (from requests<3.0.0,>=2.13.0->spacy<3.9,>=3.8->chatterbot==1.2.2) (3.10)\n",
            "Requirement already satisfied: urllib3<3,>=1.21.1 in /usr/local/lib/python3.11/dist-packages (from requests<3.0.0,>=2.13.0->spacy<3.9,>=3.8->chatterbot==1.2.2) (2.4.0)\n",
            "Requirement already satisfied: certifi>=2017.4.17 in /usr/local/lib/python3.11/dist-packages (from requests<3.0.0,>=2.13.0->spacy<3.9,>=3.8->chatterbot==1.2.2) (2025.4.26)\n",
            "Requirement already satisfied: blis<1.4.0,>=1.3.0 in /usr/local/lib/python3.11/dist-packages (from thinc<8.4.0,>=8.3.4->spacy<3.9,>=3.8->chatterbot==1.2.2) (1.3.0)\n",
            "Requirement already satisfied: confection<1.0.0,>=0.0.1 in /usr/local/lib/python3.11/dist-packages (from thinc<8.4.0,>=8.3.4->spacy<3.9,>=3.8->chatterbot==1.2.2) (0.1.5)\n",
            "Requirement already satisfied: click>=8.0.0 in /usr/local/lib/python3.11/dist-packages (from typer<1.0.0,>=0.3.0->spacy<3.9,>=3.8->chatterbot==1.2.2) (8.1.8)\n",
            "Requirement already satisfied: shellingham>=1.3.0 in /usr/local/lib/python3.11/dist-packages (from typer<1.0.0,>=0.3.0->spacy<3.9,>=3.8->chatterbot==1.2.2) (1.5.4)\n",
            "Requirement already satisfied: rich>=10.11.0 in /usr/local/lib/python3.11/dist-packages (from typer<1.0.0,>=0.3.0->spacy<3.9,>=3.8->chatterbot==1.2.2) (13.9.4)\n",
            "Requirement already satisfied: cloudpathlib<1.0.0,>=0.7.0 in /usr/local/lib/python3.11/dist-packages (from weasel<0.5.0,>=0.1.0->spacy<3.9,>=3.8->chatterbot==1.2.2) (0.21.0)\n",
            "Requirement already satisfied: smart-open<8.0.0,>=5.2.1 in /usr/local/lib/python3.11/dist-packages (from weasel<0.5.0,>=0.1.0->spacy<3.9,>=3.8->chatterbot==1.2.2) (7.1.0)\n",
            "Requirement already satisfied: MarkupSafe>=2.0 in /usr/local/lib/python3.11/dist-packages (from jinja2->spacy<3.9,>=3.8->chatterbot==1.2.2) (3.0.2)\n",
            "Requirement already satisfied: marisa-trie>=1.1.0 in /usr/local/lib/python3.11/dist-packages (from language-data>=1.2->langcodes<4.0.0,>=3.2.0->spacy<3.9,>=3.8->chatterbot==1.2.2) (1.2.1)\n",
            "Requirement already satisfied: markdown-it-py>=2.2.0 in /usr/local/lib/python3.11/dist-packages (from rich>=10.11.0->typer<1.0.0,>=0.3.0->spacy<3.9,>=3.8->chatterbot==1.2.2) (3.0.0)\n",
            "Requirement already satisfied: pygments<3.0.0,>=2.13.0 in /usr/local/lib/python3.11/dist-packages (from rich>=10.11.0->typer<1.0.0,>=0.3.0->spacy<3.9,>=3.8->chatterbot==1.2.2) (2.19.1)\n",
            "Requirement already satisfied: wrapt in /usr/local/lib/python3.11/dist-packages (from smart-open<8.0.0,>=5.2.1->weasel<0.5.0,>=0.1.0->spacy<3.9,>=3.8->chatterbot==1.2.2) (1.17.2)\n",
            "Requirement already satisfied: mdurl~=0.1 in /usr/local/lib/python3.11/dist-packages (from markdown-it-py>=2.2.0->rich>=10.11.0->typer<1.0.0,>=0.3.0->spacy<3.9,>=3.8->chatterbot==1.2.2) (0.1.2)\n",
            "Downloading chatterbot-1.2.2-py3-none-any.whl (67 kB)\n",
            "\u001b[2K   \u001b[90m━━━━━━━━━━━━━━━━━━━━━━━━━━━━━━━━━━━━━━━━\u001b[0m \u001b[32m67.0/67.0 kB\u001b[0m \u001b[31m1.2 MB/s\u001b[0m eta \u001b[36m0:00:00\u001b[0m\n",
            "\u001b[?25hDownloading mathparse-0.1.5-py3-none-any.whl (8.8 kB)\n",
            "Installing collected packages: mathparse, chatterbot\n",
            "Successfully installed chatterbot-1.2.2 mathparse-0.1.5\n",
            "Collecting chatterbot_corpus\n",
            "  Downloading chatterbot_corpus-1.2.2-py2.py3-none-any.whl.metadata (1.1 kB)\n",
            "Downloading chatterbot_corpus-1.2.2-py2.py3-none-any.whl (240 kB)\n",
            "\u001b[2K   \u001b[90m━━━━━━━━━━━━━━━━━━━━━━━━━━━━━━━━━━━━━━━━\u001b[0m \u001b[32m240.5/240.5 kB\u001b[0m \u001b[31m9.0 MB/s\u001b[0m eta \u001b[36m0:00:00\u001b[0m\n",
            "\u001b[?25hInstalling collected packages: chatterbot_corpus\n",
            "Successfully installed chatterbot_corpus-1.2.2\n"
          ]
        }
      ],
      "source": [
        "!pip install chatterbot==1.2.2\n",
        "!pip install chatterbot_corpus\n"
      ]
    },
    {
      "cell_type": "code",
      "source": [
        "from chatterbot import ChatBot\n",
        "from chatterbot.trainers import ListTrainer\n",
        "\n",
        "bot = ChatBot(\n",
        "    \"HealthBot\",\n",
        "    logic_adapters=[\n",
        "        {\n",
        "            'import_path': 'chatterbot.logic.BestMatch'\n",
        "        }\n",
        "    ]\n",
        ")\n",
        "\n",
        "trainer = ListTrainer(bot)\n"
      ],
      "metadata": {
        "id": "1MEYJ1CbyjzQ"
      },
      "execution_count": null,
      "outputs": []
    },
    {
      "cell_type": "code",
      "source": [
        "conversation = [\n",
        "    \"Hello\",\n",
        "    \"Hello! I'm your virtual health assistant. How can I help you today?\",\n",
        "\n",
        "    \"What is a fever?\",\n",
        "    \"A fever is a temporary increase in body temperature, usually due to an illness. It’s part of the body’s immune response.\",\n",
        "\n",
        "    \"How do I know if I have COVID?\",\n",
        "    \"If you have symptoms like fever, cough, fatigue, or loss of smell, it's best to get tested for COVID-19 and isolate until you get your results.\",\n",
        "\n",
        "    \"What is the normal body temperature?\",\n",
        "    \"For most people, normal body temperature is around 98.6°F or 37°C. However, it can slightly vary throughout the day.\",\n",
        "\n",
        "    \"What should I do if I have a sore throat?\",\n",
        "    \"Rest your voice, stay hydrated, and try warm salt water gargles. If symptoms persist beyond a few days, consult a doctor.\",\n",
        "\n",
        "    \"Can I take paracetamol and ibuprofen together?\",\n",
        "    \"Yes, you can alternate paracetamol and ibuprofen for better pain control, but be careful not to exceed recommended doses.\",\n",
        "\n",
        "    \"What are flu symptoms?\",\n",
        "    \"Flu symptoms include fever, chills, cough, sore throat, body aches, fatigue, and sometimes nausea or diarrhea.\",\n",
        "\n",
        "    \"Should I be worried about a cough?\",\n",
        "    \"A mild cough can be due to a cold or allergies. If it lasts over a week, gets worse, or comes with breathing trouble, see a doctor.\",\n",
        "\n",
        "    \"What can I eat when I’m sick?\",\n",
        "    \"Eat light, warm meals like soup or toast. Stay hydrated with water or herbal teas. Avoid caffeine and greasy foods.\",\n",
        "\n",
        "    \"Thank you\",\n",
        "    \"You're welcome! Stay healthy and feel free to ask me anything else.\"\n",
        "]\n",
        "\n",
        "trainer.train(conversation)\n"
      ],
      "metadata": {
        "colab": {
          "base_uri": "https://localhost:8080/"
        },
        "id": "KzCNgbO-yj3E",
        "outputId": "88dde904-7181-44b0-9b3d-972cdf09f445"
      },
      "execution_count": null,
      "outputs": [
        {
          "output_type": "stream",
          "name": "stderr",
          "text": [
            "List Trainer: 20it [00:00, 100.39it/s]\n"
          ]
        }
      ]
    },
    {
      "cell_type": "code",
      "source": [
        "# Chat loop for conversation\n",
        "print(\"Start chatting with HealthBot! Type 'exit' to stop.\\n\")\n",
        "\n",
        "while True:\n",
        "    user_input = input(\"You: \")\n",
        "    if user_input.lower() == 'exit':\n",
        "        print(\"HealthBot: Take care! Goodbye 👋\")\n",
        "        break\n",
        "    response = bot.get_response(user_input)\n",
        "    print(\"HealthBot:\", response)\n"
      ],
      "metadata": {
        "colab": {
          "base_uri": "https://localhost:8080/"
        },
        "id": "aCliPXMHyj6j",
        "outputId": "92e7fd32-e9a9-4d83-a633-1b64aa74ca08"
      },
      "execution_count": null,
      "outputs": [
        {
          "output_type": "stream",
          "name": "stdout",
          "text": [
            "Start chatting with HealthBot! Type 'exit' to stop.\n",
            "\n",
            "You: Hi\n",
            "HealthBot: Should I be worried about a cough?\n",
            "You: Hello\n",
            "HealthBot: Hello! I'm your virtual health assistant. How can I help you today?\n"
          ]
        }
      ]
    },
    {
      "cell_type": "code",
      "source": [
        "import time\n",
        "\n",
        "# Define test set: input and expected output\n",
        "test_cases = [\n",
        "    (\"Hello\", \"Hello! I'm your virtual health assistant. How can I help you today?\"),\n",
        "    (\"What is a fever?\", \"A fever is a temporary increase in body temperature, usually due to an illness. It’s part of the body’s immune response.\"),\n",
        "    (\"Can I take paracetamol and ibuprofen together?\", \"Yes, you can alternate paracetamol and ibuprofen for better pain control, but be careful not to exceed recommended doses.\"),\n",
        "    (\"What are flu symptoms?\", \"Flu symptoms include fever, chills, cough, sore throat, body aches, fatigue, and sometimes nausea or diarrhea.\"),\n",
        "    (\"What is the capital of France?\", None),  # Expected to fall back\n",
        "]\n",
        "\n",
        "correct = 0\n",
        "fallbacks = 0\n",
        "total_time = 0\n",
        "total = len(test_cases)\n",
        "\n",
        "for i, (user_input, expected_response) in enumerate(test_cases):\n",
        "    start = time.time()\n",
        "    response = bot.get_response(user_input)\n",
        "    elapsed = time.time() - start\n",
        "    total_time += elapsed\n",
        "\n",
        "    print(f\"Q{i+1}: {user_input}\")\n",
        "    print(f\"Bot: {response}\")\n",
        "\n",
        "    if expected_response:\n",
        "        if expected_response.lower() in str(response).lower():\n",
        "            correct += 1\n",
        "            print(\"✅ Match\")\n",
        "        else:\n",
        "            print(\"❌ Mismatch\")\n",
        "    else:\n",
        "        if response.confidence < 0.5:\n",
        "            fallback = True\n",
        "            print(\"⚠️ Fallback detected\")\n",
        "            fallbacks += 1\n",
        "        else:\n",
        "            print(\"❌ Unexpected confident response\")\n",
        "    print(\"------\")\n",
        "\n",
        "# Summary metrics\n",
        "accuracy = correct / total * 100\n",
        "fallback_rate = fallbacks / total * 100\n",
        "avg_response_time = total_time / total\n",
        "\n",
        "print(f\"\\nEvaluation Summary:\")\n",
        "print(f\"Accuracy: {accuracy:.2f}%\")\n",
        "print(f\"Fallback Rate: {fallback_rate:.2f}%\")\n",
        "print(f\"Average Response Time: {avg_response_time:.4f} seconds\")\n"
      ],
      "metadata": {
        "id": "K_rtAuutyj9o",
        "colab": {
          "base_uri": "https://localhost:8080/"
        },
        "outputId": "76309e6f-26a4-403c-c6ff-4dbe36634a21"
      },
      "execution_count": null,
      "outputs": [
        {
          "output_type": "stream",
          "name": "stdout",
          "text": [
            "Q1: Hello\n",
            "Bot: Hello\n",
            "❌ Mismatch\n",
            "------\n",
            "Q2: What is a fever?\n",
            "Bot: Hello\n",
            "❌ Mismatch\n",
            "------\n",
            "Q3: Can I take paracetamol and ibuprofen together?\n",
            "Bot: Hello\n",
            "❌ Mismatch\n",
            "------\n",
            "Q4: What are flu symptoms?\n",
            "Bot: Hello\n",
            "❌ Mismatch\n",
            "------\n",
            "Q5: What is the capital of France?\n",
            "Bot: Hello\n",
            "⚠️ Fallback detected\n",
            "------\n",
            "\n",
            "Evaluation Summary:\n",
            "Accuracy: 0.00%\n",
            "Fallback Rate: 20.00%\n",
            "Average Response Time: 0.0430 seconds\n"
          ]
        }
      ]
    },
    {
      "cell_type": "code",
      "source": [
        "import matplotlib.pyplot as plt\n",
        "\n",
        "# Calculating Precision, Recall, and F1 Score\n",
        "def calculate_precision_recall_f1(correct, total, fallbacks):\n",
        "    precision = correct / (correct + fallbacks) if (correct + fallbacks) > 0 else 0\n",
        "    recall = correct / total if total > 0 else 0\n",
        "    f1 = 2 * (precision * recall) / (precision + recall) if (precision + recall) > 0 else 0\n",
        "    return precision, recall, f1\n",
        "\n",
        "# Calculate metrics\n",
        "precision, recall, f1 = calculate_precision_recall_f1(correct, total, fallbacks)\n",
        "\n",
        "# Print the calculated metrics\n",
        "print(f\"Precision: {precision:.2f}\")\n",
        "print(f\"Recall: {recall:.2f}\")\n",
        "print(f\"F1 Score: {f1:.2f}\")\n",
        "\n",
        "# Prepare data for graph\n",
        "metrics = ['Accuracy', 'Fallback Rate', 'Precision', 'Recall', 'F1 Score']\n",
        "values = [accuracy, fallback_rate, precision * 100, recall * 100, f1 * 100]\n",
        "\n",
        "# Plotting the metrics\n",
        "plt.figure(figsize=(8, 5))\n",
        "plt.bar(metrics, values, color='skyblue')\n",
        "plt.title('ChatterBot Evaluation Metrics')\n",
        "plt.xlabel('Metric')\n",
        "plt.ylabel('Percentage (%)')\n",
        "for i, v in enumerate(values):\n",
        "    plt.text(i, v + 1, f\"{v:.2f}%\", ha='center')\n",
        "plt.ylim(0, 110)\n",
        "plt.show()\n"
      ],
      "metadata": {
        "id": "lZk50vAzykAW",
        "colab": {
          "base_uri": "https://localhost:8080/",
          "height": 539
        },
        "outputId": "0bd0e0c5-e8df-4c89-9819-0b67539fa481"
      },
      "execution_count": null,
      "outputs": [
        {
          "output_type": "stream",
          "name": "stdout",
          "text": [
            "Precision: 0.00\n",
            "Recall: 0.00\n",
            "F1 Score: 0.00\n"
          ]
        },
        {
          "output_type": "display_data",
          "data": {
            "text/plain": [
              "<Figure size 800x500 with 1 Axes>"
            ],
            "image/png": "[encoded data removed]"
          },
          "metadata": {}
        }
      ]
    },
    {
      "cell_type": "code",
      "source": [],
      "metadata": {
        "id": "1XOgvXJcykDd"
      },
      "execution_count": null,
      "outputs": []
    },
    {
      "cell_type": "code",
      "source": [],
      "metadata": {
        "id": "isFTNVp6ykGO"
      },
      "execution_count": null,
      "outputs": []
    },
    {
      "cell_type": "code",
      "source": [],
      "metadata": {
        "id": "24UnxXfgykJM"
      },
      "execution_count": null,
      "outputs": []
    }
  ]
}